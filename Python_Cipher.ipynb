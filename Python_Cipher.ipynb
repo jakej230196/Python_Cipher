{
 "cells": [
  {
   "cell_type": "code",
   "execution_count": 93,
   "metadata": {},
   "outputs": [],
   "source": [
    "import collections\n",
    "import random\n",
    "import time\n",
    "import pandas as pd\n",
    "import sys\n",
    "# Alphabet Characters\n",
    "Alphabet_Characters = ['A','B','C','D','E','F','G','H','I','J','K','L','M','N','O','P','Q','R','S'\n",
    "            ,'T','U','V','W','X','Y','Z'];\n",
    "# Character Positions\n",
    "Positions = [0,1,2,3,4,5,6,7,8,9,10,11,12,13,14,15,16,17,18,19,20,21,22,23,24,25];\n",
    "\n",
    "# Create a mapping of characters to position\n",
    "def Alphabet_Position_Mapping():\n",
    "    Alphabet = collections.defaultdict(list)\n",
    "    for i in range(0,len(Alphabet_Characters)):\n",
    "        Alphabet[i].append(Alphabet_Characters[i])\n",
    "        Alphabet[i].append(Positions[i])\n",
    "    return Alphabet   \n",
    "\n",
    "Alphabet = Alphabet_Position_Mapping();"
   ]
  },
  {
   "cell_type": "code",
   "execution_count": 94,
   "metadata": {},
   "outputs": [],
   "source": [
    "Plaintext_Alphabet = collections.defaultdict(list)\n",
    "for n in range (26):\n",
    "    Plaintext_Alphabet[Alphabet[n][0]] = Alphabet[n][1]"
   ]
  },
  {
   "cell_type": "markdown",
   "metadata": {},
   "source": [
    "# Overview"
   ]
  },
  {
   "cell_type": "markdown",
   "metadata": {},
   "source": [
    "\n",
    "The cipher uses three private keys. Key1 is a the result of a hash function of the input message and addition of the hash of the current time in UNIX time, this was done as only using the hash of the message would allow for the same private key to be created multiple times. With the addition of the hash function of the current unix time, which changes every millisecond, every key created by the cipher will be unique, except for cases in which the cipher is used at exactly the same time to encrypt the same message, which is practically impossible.\n",
    "\n",
    "Key2 is used to record the index in the message in which a white-space occurs. The white-space is then replaced with a random number of randomly selected characters. The number of characters that replace each space is stored in Key3."
   ]
  },
  {
   "cell_type": "markdown",
   "metadata": {},
   "source": [
    "## Creating The Key"
   ]
  },
  {
   "cell_type": "markdown",
   "metadata": {},
   "source": [
    "Input:  Plaintext message\n",
    "\n",
    "Output:  Key\n",
    "\n",
    "•Assign Key = Hash(Current UNIX Time)\n",
    "\n",
    "•Convert Key (Currently a string) To An Integer\n",
    "\n",
    "•Assign Key as:  Key + Hash(Plaintext Message)\n",
    "\n",
    "•Convert the key back to a string\n",
    "\n",
    "•Return Key"
   ]
  },
  {
   "cell_type": "markdown",
   "metadata": {},
   "source": [
    "## Encryption"
   ]
  },
  {
   "cell_type": "markdown",
   "metadata": {},
   "source": [
    "Input:  Plaintext message\n",
    "\n",
    "Return:  Key1,Key2,Key3,Encrypted Message\n",
    "\n",
    "•Key1 = CreateKey(Plaintext Message)\n",
    "\n",
    "•Count = 0 ; used as index to plaintext message\n",
    "\n",
    "•While End of The Plaintext Message is Not Reached DO:\n",
    "\n",
    "    If PlainText Message[Count] IS NOT Whitespace, DO:\n",
    "\n",
    "    For Each Element In The Key DO:\n",
    "        New Position = Current Characters Position In Alphabet + Current Element In The Key\n",
    "            If New Position GREATER THAN Length Of The Alphabet, DO:\n",
    "\n",
    "                Append Count To Key2\n",
    "                New Position = Negative(Length Of The Alphabet) + (Current CharactersPosition In Alphabet + Current Element In The Key)\n",
    "                Encypted Message[Count] = Plaintext Alphabet[New Position]\n",
    "\n",
    "    Else New Position[Count] IS Whitespace, DO:\n",
    "\n",
    "        Generate Random Interger, Num Randoms\n",
    "        Append Num Randoms To Key3\n",
    "        X = 1 :  Num Randoms, DO: \n",
    "            Random Number between 0 And Length Of The Alphabet:  New\n",
    "            Position Alphabet Character[New Position] To the Encrypted Message\n",
    "            \n",
    "    If Count = Length Of Plaintext Message, DO: Return Key1,Key2,Key3,Encrypted Message"
   ]
  },
  {
   "cell_type": "markdown",
   "metadata": {},
   "source": [
    "## Decryption"
   ]
  },
  {
   "cell_type": "markdown",
   "metadata": {},
   "source": [
    "Input:  Key1,Key2,Key3,Encrypted Message\n",
    "\n",
    "Return:  Decrypted Message\n",
    "\n",
    "•Count = 0 ; used as index to encrypted message\n",
    "\n",
    "•Key Count = 0 ; used as index to Keys 2 and 3\n",
    "\n",
    "•While Message Not Decrypted:\n",
    "\n",
    "•For Each Element In The Key DO:\n",
    "\n",
    "    If the Key Counter is In Key2 DO:\n",
    "    \n",
    "        Plaintext Index = length Of Alphabet + CipherText characters Index In Alphabet\n",
    "        \n",
    "    If the Key Counter is In Key3 DO:\n",
    "        \n",
    "        Add Single Whitespace to Decrypted Message\n",
    "        Increment Count By Value In Key3[Key Counter]\n",
    "        Increment Key Counter By 1\n",
    "            \n",
    "    If Key Counter Is Not In Key2 Or Key3 DO:\n",
    "        \n",
    "        PlainText Index = CipherText Character Position In Alphabet - Current Element of Key\n",
    "        Add Plaintext Character from The Alphabet at Position PlainText Index•Increment Count And Key Count By 1"
   ]
  },
  {
   "cell_type": "markdown",
   "metadata": {},
   "source": [
    "## Result Of Encrypting The Same Message Twice"
   ]
  },
  {
   "cell_type": "code",
   "execution_count": 95,
   "metadata": {},
   "outputs": [
    {
     "data": {
      "text/html": [
       "<div>\n",
       "<style scoped>\n",
       "    .dataframe tbody tr th:only-of-type {\n",
       "        vertical-align: middle;\n",
       "    }\n",
       "\n",
       "    .dataframe tbody tr th {\n",
       "        vertical-align: top;\n",
       "    }\n",
       "\n",
       "    .dataframe thead th {\n",
       "        text-align: right;\n",
       "    }\n",
       "</style>\n",
       "<table border=\"1\" class=\"dataframe\">\n",
       "  <thead>\n",
       "    <tr style=\"text-align: right;\">\n",
       "      <th></th>\n",
       "      <th>Input</th>\n",
       "      <th>Key1</th>\n",
       "      <th>Encypted Message</th>\n",
       "      <th>Decypted Message</th>\n",
       "    </tr>\n",
       "  </thead>\n",
       "  <tbody>\n",
       "    <tr>\n",
       "      <th>0</th>\n",
       "      <td>Sussex</td>\n",
       "      <td>3965300635186948835</td>\n",
       "      <td>VEYXHX</td>\n",
       "      <td>sussex</td>\n",
       "    </tr>\n",
       "    <tr>\n",
       "      <th>1</th>\n",
       "      <td>Sussex</td>\n",
       "      <td>4894608754009758453</td>\n",
       "      <td>WDCWKX</td>\n",
       "      <td>sussex</td>\n",
       "    </tr>\n",
       "  </tbody>\n",
       "</table>\n",
       "</div>"
      ],
      "text/plain": [
       "    Input                 Key1 Encypted Message Decypted Message\n",
       "0  Sussex  3965300635186948835           VEYXHX           sussex\n",
       "1  Sussex  4894608754009758453           WDCWKX           sussex"
      ]
     },
     "execution_count": 95,
     "metadata": {},
     "output_type": "execute_result"
    }
   ],
   "source": [
    "\n",
    "Input = ['Sussex','Sussex']\n",
    "Key1 = [3965300635186948835,4894608754009758453]\n",
    "Encrypted_Message = ['VEYXHX','WDCWKX']\n",
    "Decrypted_Message = ['sussex','sussex']\n",
    "# Create dataframe\n",
    "df = pd.DataFrame(Input)\n",
    "# Lets change the name of the column\n",
    "df.columns = ['Input']\n",
    "df['Key1'] = Key1\n",
    "df['Encypted Message'] = Encrypted_Message\n",
    "df['Decypted Message'] = Decrypted_Message\n",
    "\n",
    "df"
   ]
  },
  {
   "cell_type": "markdown",
   "metadata": {},
   "source": [
    "### Result Of Encrypting The Same Message Twice At The Same Time (As close as possible at leased)"
   ]
  },
  {
   "cell_type": "markdown",
   "metadata": {},
   "source": [
    "the best i could manage to get was 0.00016689300537109375 Epochs difference, about a thousandth of a second,the cipher still produces vastly different Key1 values and the encrypted messages bare no resemblance"
   ]
  },
  {
   "cell_type": "code",
   "execution_count": 96,
   "metadata": {},
   "outputs": [
    {
     "data": {
      "text/html": [
       "<div>\n",
       "<style scoped>\n",
       "    .dataframe tbody tr th:only-of-type {\n",
       "        vertical-align: middle;\n",
       "    }\n",
       "\n",
       "    .dataframe tbody tr th {\n",
       "        vertical-align: top;\n",
       "    }\n",
       "\n",
       "    .dataframe thead th {\n",
       "        text-align: right;\n",
       "    }\n",
       "</style>\n",
       "<table border=\"1\" class=\"dataframe\">\n",
       "  <thead>\n",
       "    <tr style=\"text-align: right;\">\n",
       "      <th></th>\n",
       "      <th>Input</th>\n",
       "      <th>Timestamp</th>\n",
       "      <th>Key1</th>\n",
       "      <th>Encypted Message</th>\n",
       "    </tr>\n",
       "  </thead>\n",
       "  <tbody>\n",
       "    <tr>\n",
       "      <th>0</th>\n",
       "      <td>Sussex not susex</td>\n",
       "      <td>1.544608e+09</td>\n",
       "      <td>5489625615527348109</td>\n",
       "      <td>XYBCKZJLPSSCHAXYBCKZ</td>\n",
       "    </tr>\n",
       "    <tr>\n",
       "      <th>1</th>\n",
       "      <td>Sussex not susex</td>\n",
       "      <td>1.544608e+09</td>\n",
       "      <td>1941271845566194205</td>\n",
       "      <td>TEWTGFMOXXJTEWTGF</td>\n",
       "    </tr>\n",
       "  </tbody>\n",
       "</table>\n",
       "</div>"
      ],
      "text/plain": [
       "              Input     Timestamp                 Key1      Encypted Message\n",
       "0  Sussex not susex  1.544608e+09  5489625615527348109  XYBCKZJLPSSCHAXYBCKZ\n",
       "1  Sussex not susex  1.544608e+09  1941271845566194205     TEWTGFMOXXJTEWTGF"
      ]
     },
     "execution_count": 96,
     "metadata": {},
     "output_type": "execute_result"
    }
   ],
   "source": [
    "# Our small data set\n",
    "Input = ['Sussex not susex','Sussex not susex']\n",
    "Timestamp = [1544607651.106532,1544608433.688006]\n",
    "Key1 = [5489625615527348109,1941271845566194205]\n",
    "Encrypted_Message = ['XYBCKZJLPSSCHAXYBCKZ','TEWTGFMOXXJTEWTGF']\n",
    "# Create dataframe\n",
    "df = pd.DataFrame(Input)\n",
    "# Lets change the name of the column\n",
    "df.columns = ['Input']\n",
    "df['Timestamp'] = Timestamp\n",
    "df['Key1'] = Key1\n",
    "df['Encypted Message'] = Encrypted_Message\n",
    "\n",
    "\n",
    "df"
   ]
  },
  {
   "cell_type": "markdown",
   "metadata": {},
   "source": [
    "### Role Of Key2"
   ]
  },
  {
   "cell_type": "markdown",
   "metadata": {},
   "source": [
    "Key2  Records  the  index  at  which  a  wraparound  occurred;  it  allows  the  decryption  function  toobtain the correct alphabet index of the plain text.  Below demonstrates what would happen shouldan attacker have access to the encrypted message, Keys 1 and 3, but not Key2.\n",
    "\n",
    "Notice  that  Key2  in  [0,5]  and  the  missing  values  of  the  decrypted  message,the decryption function is unable to obtain an index for characters at indices 0 and 5 as they are where a wrap-around of the alphabet occurred.  This could be seen as aweakness in the cipher as an attacker would be able to decrpyt parts of the message without the fullkey.\n",
    "\n",
    "Rows  3  and  4  show  the  result  of  trying  to  decrypt  a  longer  word, ’Internationalization’,  with  and without access to  key2.  Row 4  and 5  show  the result  of  trying  to  decrypt a  short statement with and without Key2.  It still appears to be a weakness, however, the probability of an attacker having somehow accessed all but key2 is negligible and if it were the case decryption is more a matter of time rather than possibility."
   ]
  },
  {
   "cell_type": "code",
   "execution_count": 97,
   "metadata": {},
   "outputs": [
    {
     "data": {
      "text/html": [
       "<div>\n",
       "<style scoped>\n",
       "    .dataframe tbody tr th:only-of-type {\n",
       "        vertical-align: middle;\n",
       "    }\n",
       "\n",
       "    .dataframe tbody tr th {\n",
       "        vertical-align: top;\n",
       "    }\n",
       "\n",
       "    .dataframe thead th {\n",
       "        text-align: right;\n",
       "    }\n",
       "</style>\n",
       "<table border=\"1\" class=\"dataframe\">\n",
       "  <thead>\n",
       "    <tr style=\"text-align: right;\">\n",
       "      <th></th>\n",
       "      <th>Input</th>\n",
       "      <th>Key2</th>\n",
       "      <th>Encypted Message</th>\n",
       "      <th>Decypted Message</th>\n",
       "    </tr>\n",
       "  </thead>\n",
       "  <tbody>\n",
       "    <tr>\n",
       "      <th>0</th>\n",
       "      <td>Sussex</td>\n",
       "      <td>[0, 5]</td>\n",
       "      <td>CXSYJB</td>\n",
       "      <td>sussex</td>\n",
       "    </tr>\n",
       "    <tr>\n",
       "      <th>1</th>\n",
       "      <td>Sussex</td>\n",
       "      <td>Unknown</td>\n",
       "      <td>CXSYJB</td>\n",
       "      <td>ussex</td>\n",
       "    </tr>\n",
       "    <tr>\n",
       "      <th>2</th>\n",
       "      <td>Internationalization</td>\n",
       "      <td>[2, 4, 1, 4, 16]</td>\n",
       "      <td>PTDHBNEVNOPIPKJHDMVT</td>\n",
       "      <td>internationalization</td>\n",
       "    </tr>\n",
       "    <tr>\n",
       "      <th>3</th>\n",
       "      <td>Internationalization</td>\n",
       "      <td>Unknown</td>\n",
       "      <td>PTDHBNEVNOPIPKJHDMVT</td>\n",
       "      <td>inenationaliaaion</td>\n",
       "    </tr>\n",
       "    <tr>\n",
       "      <th>4</th>\n",
       "      <td>Im going to brexit</td>\n",
       "      <td>[9, 15]</td>\n",
       "      <td>RPZYPRJTJNCGDRIXKUFELW</td>\n",
       "      <td>imgoingtobrexit</td>\n",
       "    </tr>\n",
       "    <tr>\n",
       "      <th>5</th>\n",
       "      <td>Im going to brexit</td>\n",
       "      <td>Unknown</td>\n",
       "      <td>RPZYPRJTJNCGDRIXKUFELW</td>\n",
       "      <td>imgoingobreit</td>\n",
       "    </tr>\n",
       "  </tbody>\n",
       "</table>\n",
       "</div>"
      ],
      "text/plain": [
       "                  Input              Key2        Encypted Message  \\\n",
       "0                Sussex            [0, 5]                  CXSYJB   \n",
       "1                Sussex           Unknown                  CXSYJB   \n",
       "2  Internationalization  [2, 4, 1, 4, 16]    PTDHBNEVNOPIPKJHDMVT   \n",
       "3  Internationalization           Unknown    PTDHBNEVNOPIPKJHDMVT   \n",
       "4    Im going to brexit           [9, 15]  RPZYPRJTJNCGDRIXKUFELW   \n",
       "5    Im going to brexit           Unknown  RPZYPRJTJNCGDRIXKUFELW   \n",
       "\n",
       "       Decypted Message  \n",
       "0                sussex  \n",
       "1                 ussex  \n",
       "2  internationalization  \n",
       "3     inenationaliaaion  \n",
       "4       imgoingtobrexit  \n",
       "5         imgoingobreit  "
      ]
     },
     "execution_count": 97,
     "metadata": {},
     "output_type": "execute_result"
    }
   ],
   "source": [
    "# Our small data set\n",
    "Input = ['Sussex','Sussex','Internationalization','Internationalization','Im going to brexit','Im going to brexit']\n",
    "Key2 = [[0,5],'Unknown',[2,4,1,4,16],'Unknown',[9,15],'Unknown']\n",
    "Encrypted_Message = ['CXSYJB','CXSYJB','PTDHBNEVNOPIPKJHDMVT','PTDHBNEVNOPIPKJHDMVT','RPZYPRJTJNCGDRIXKUFELW','RPZYPRJTJNCGDRIXKUFELW']\n",
    "Decrypted_Message = ['sussex','ussex','internationalization','inenationaliaaion','imgoingtobrexit','imgoingobreit']\n",
    "# Create dataframe\n",
    "df = pd.DataFrame(Input)\n",
    "df.columns = ['Input']\n",
    "df['Key2'] = Key2\n",
    "df['Encypted Message'] = Encrypted_Message\n",
    "df['Decypted Message'] = Decrypted_Message\n",
    "df"
   ]
  },
  {
   "cell_type": "markdown",
   "metadata": {},
   "source": [
    "### Role Of Key3"
   ]
  },
  {
   "cell_type": "markdown",
   "metadata": {},
   "source": [
    "Key 3 is a dictionary, keys are the index of the position in the Plain-text that a white-space was encountered, the values held in the key are the number of random characters that were added to the encrypted message.  So far we have restricted the values to a maximum of 3. The cipher could,theoretically, but not practically, store a billion random characters for each white-space.  Of course,that  would  be  a  rather  foolish  thing  to  do  here,  so  the  role  of  Key3  will  be  demonstrated  using  a maximum of 150 random characters for each white-space on the sentence:  ’if light has no mass, whyis it affected by the gravitational force of a black hole?’."
   ]
  },
  {
   "cell_type": "markdown",
   "metadata": {},
   "source": [
    "Encrypted Message:\n",
    "    \n",
    "    KHNDCYBVICAJMGYIJVADPP ZVXBXPBZLTREEMAINGXYQVWXKRKAYZMZSOYNADOAQSUECQUGNNKKHWREUCCFFKOLPEXOBOFTYGVCETMN GOOPTNIBUQLDHKZWMLK-WZTDCJCWGMSSFISHRGOSB QTDMNYFXFZOZTLFSHLPKFUWQJFEQXVOCPUDZORWI JS-RHEHLHLAENZQPQEWRANEGNKLFVIGMKBMSKURIM TQDMYHHRKKMCBPHQGBNDZOCWSE-JBUITNDRIKWTVA BTRYBXPXFSYTZPCWMMBZFWMZQYPKABCEXNKSWGUH HHDLEX-UFBUECGPBSVCVPHGNVBUHVOPHTYJDWEYRI JKPOUPDIUBDWKKUUBTCLNOHLWCGET-ZBDUNKLGMBD JSXAFJJOTWCEDIFKVAQQYEGOTRHFUHCHJEFVMMWX LEVXYOBUOI-WXEVPZOIRIKKWCMGSVVVLKBQEUGTFA YXLTEBOHNNQCDDBBLBPCJWNXHRKFYX-CBSUKRMXIM BQXPVUPAIUSMJVNPXBRAKIKAQVRLCLCJCZAVJIAA ZWAITADIAZYTLIOIPVSJFZYXS-FTINWGBVVCGNLBT HHEQHITEVLVIDJOTHOGHXDGWCYVEQOBDSJNNPFES GXUBKWN-HBTZGVWRPPFCNTOUFDGLQQBKVHQVCHDKI VMDHUXIOHRROHOOISDCTJXOPWXVQHK-JELBMVGGHE LQNNLVNRSFYRHCXEGUCNRSGXDOZCZEIBZNMPUJMW LQQTRNMMVGO-QVHQLDADFJMFCPBRROIKFCVMIWDNE CNHTAJARAWRJQPE\n",
    "    \n",
    "    \n",
    "Key 3:\n",
    "        defaultdict(¡class ’list’¿, 2:  68, 8:  49, 12:  66, 15:  44, 20:  33, 21:  52, 25:  17, 28:  39, 31:  12, 40:  54, 43:60, 47:  46, 61:  53, 67:  29, 70:  28, 72:  57, 78:  8)\n",
    "        \n",
    "        \n",
    "        \n",
    "Decryption using key 3:\n",
    "\n",
    "    iflighthasnomasswhyisitaffectedbythegravitationalforceofablackhole\n",
    "    \n",
    "    \n",
    "Decryption Without Key 3:\n",
    "\n",
    "    ifjdwmhccjdteobnlzsoobteqohdlet  ytoojrevwhqntlookldckndkibfarpc  qcdbnljulfamteteqkfnojmkfllefivwjjcnytgrhlndgohoegjaqnjktsumxp lcqcokntnejstmprbrfqwccpoccecja nwohhdwlkbbefeatgcmhejjulbjqlhrcfpgkjaggqakaufpnchufrfqiepqso  ktvlxcqqkyppjjqaphxouphdxhdptbl  cacbjaxrdldcaipqqicelrbrfnfohnrgartkdhilorntbphhplmjlkhiudttar ibghbfsuaionpbadqomybegkqhnecaq kksxicnoxonlfrookxmerficnbmalsscflcsctcqoktleielbiihiwhqeoftqq qkokplbkqmspgbpqkfvknpqaebhlmme jafcwnahastdkdxutiggovmccwtonoglsgtnfnfqecladrcrlsgantbhdesbpw taqljinhicbnsniujhrruwlimceohpd bclnobuhkoebdohbfqxfmiqobhlfnmevmlwutijjejqbajojnitfirfskesbnl pogubgqbzbwidknekuhqnrjelmplnql ebbjjdgarlhfhaqfdubjelkjktmali\n",
    "\n"
   ]
  },
  {
   "cell_type": "markdown",
   "metadata": {},
   "source": [
    "# The Cipher"
   ]
  },
  {
   "cell_type": "code",
   "execution_count": 98,
   "metadata": {},
   "outputs": [],
   "source": [
    "class Cipher():\n",
    "    \n",
    "    \n",
    "    def __init__(self,Max):\n",
    "        self.Max_Random = Max\n",
    "    \n",
    "    # encodes a message and generates a private key\n",
    "    def Encode(self,Message):\n",
    "\n",
    "        Finished = False\n",
    "\n",
    "        # Create a private key\n",
    "        Key1 = Cipher_Create_Key(Message)\n",
    "        # Create a private key\n",
    "        Key2 = []\n",
    "        # Create a private key\n",
    "        Key3 = collections.defaultdict(list)\n",
    "\n",
    "        # Create empty string for encrypted message\n",
    "        Encrypted_Message = '';\n",
    "\n",
    "        # Global count for loop termination\n",
    "        Count =0;\n",
    "\n",
    "        # Keep looping until message is fully encrypted\n",
    "        while (not Finished):\n",
    "\n",
    "            # For each element in the key\n",
    "            for x in range(len(Key1)):\n",
    "\n",
    "                # If we reach the end of the message exit loops\n",
    "                if (Count == len(Message)):\n",
    "                    Finished = True\n",
    "                    break\n",
    "                # Ignore spaces\n",
    "                try:\n",
    "                    # Replace the plaintext character with the letter n places to the right in the alphabet\n",
    "                    # Where n is the integer at the xth position in the key. Wraparound if needed.\n",
    "                    New_Position = int(Plaintext_Alphabet[Message[Count].upper()]) + int(Key1[x])\n",
    "\n",
    "                    # If new position is greater than alphabet length then wraparound\n",
    "                    if (New_Position > 25):\n",
    "                        # Need to record positions where a wraparound happens\n",
    "                        Key2.append(Count)\n",
    "                        New_Position = -25 + (int(Plaintext_Alphabet[Message[Count].upper()]) + int(Key1[x]))\n",
    "\n",
    "                    # Loop alphabet characters until we find a matching value\n",
    "                    for Character in Plaintext_Alphabet.keys():\n",
    "                        # If the index matches our new position\n",
    "                        if (Plaintext_Alphabet[Character] == New_Position):\n",
    "                            Encrypted_Message = Encrypted_Message + str(Character)\n",
    "                            Count = Count+1\n",
    "                            break\n",
    "\n",
    "                except TypeError:\n",
    "                    # Random int to determine the number of random characters to add for this space\n",
    "                    Num_Randoms = random.randint(1,self.Max_Random)\n",
    "                    # Change the above range to include more/less Random characters & whitespace\n",
    "\n",
    "                    # Record where a space was and how amny random characters were added\n",
    "                    Key3[Count] = Num_Randoms-1\n",
    "                    for x in range (Num_Randoms):\n",
    "                        # Generate random int for random character\n",
    "                        New_Position = random.randint(0,25)\n",
    "                        for Character in Plaintext_Alphabet.keys():\n",
    "                            # If the index matches our new position\n",
    "                            if (Plaintext_Alphabet[Character] == New_Position):\n",
    "                                Encrypted_Message = Encrypted_Message + str(Character)\n",
    "                    Count=Count+1\n",
    "                    break\n",
    "\n",
    "        return Key1,Key2,Key3,Encrypted_Message\n",
    "\n",
    "\n",
    "\n",
    "    def Decrypt(self,Key1,Key2,Key3,Message):\n",
    "\n",
    "        Decrypted = False\n",
    "        Count = 0\n",
    "        Key_Count =0\n",
    "\n",
    "\n",
    "        Decrypted_Message =''\n",
    "        # If the message wasn't encrypted by this cipher\n",
    "        try:\n",
    "            while (not Decrypted):\n",
    "\n",
    "\n",
    "                if (Count == len(Message)):\n",
    "                    Decrypted = True\n",
    "                    break\n",
    "\n",
    "                # For each element in the key\n",
    "                for x in range(len(Key1)):\n",
    "\n",
    "                    # If we reach the end of the message exit loops\n",
    "                    if (Count == len(Message)):\n",
    "                        Decrypted = True\n",
    "                        break\n",
    "\n",
    "                    # If a wraparound occured at this index\n",
    "                    if (Key_Count in Key2):\n",
    "                        New_Position = (25+ int(Plaintext_Alphabet[Message[Count].upper()])) - int(Key1[x])\n",
    "\n",
    "                    # If a space was present in the original message\n",
    "                    elif (Key_Count in Key3):\n",
    "\n",
    "                        Decrypted_Message = Decrypted_Message + ''\n",
    "                        Count = Count + Key3[Key_Count]+1\n",
    "                        Key_Count = Key_Count+1\n",
    "                        break\n",
    "\n",
    "                    else:\n",
    "                        # If no wraparound then the true character is just the current position - the key\n",
    "                        New_Position = int(Plaintext_Alphabet[Message[Count].upper()]) - int(Key1[x])\n",
    "\n",
    "                    # Loop alphabet characters until we find a matching value\n",
    "                    for Character in Plaintext_Alphabet.keys():\n",
    "                        # If the index matches our new position\n",
    "                        if (Plaintext_Alphabet[Character] == New_Position):\n",
    "                            Decrypted_Message = Decrypted_Message + str(Character).lower()\n",
    "                            break\n",
    "\n",
    "                    Count = Count+1\n",
    "                    Key_Count = Key_Count +1\n",
    "\n",
    "        except (AttributeError,IndexError): return (\"That Was'nt Encrypted By Me!\")\n",
    "\n",
    "\n",
    "        return Decrypted_Message\n",
    "\n",
    "\n",
    "    def Create_Key(self,Message):\n",
    "\n",
    "        # initialize empty string for key\n",
    "        New_Key =''\n",
    "        # Hash the current UNIX time and remove the negation\n",
    "        Key = str(hash(str(\"%.20f\" % time.time())))[1:len(str(hash(str(\"%.20f\" % time.time()))))]\n",
    "        # add the hash of the message and then convert back to a string\n",
    "        Key = int(Key)+ int(hash(Message))\n",
    "        Key = str(Key)\n",
    "        # Remove the decimal place and dash in the time sequence\n",
    "        for Element in Key:\n",
    "\n",
    "            if Element != '.' and Element !='-':\n",
    "                New_Key += Element\n",
    "\n",
    "        return New_Key\n"
   ]
  },
  {
   "cell_type": "code",
   "execution_count": 99,
   "metadata": {},
   "outputs": [
    {
     "name": "stdout",
     "output_type": "stream",
     "text": [
      "Encrypted Message:\n",
      " RKNMGNVZGVUHZIHQKGPBYSAHIQLLXFILWXTBWFWLPXOXHVVYDOSIVUNLHCEBZREHUACPIVXAWKJZXTFUIXBGOJVWPATVEGJZKLBXQOYTIMIOWHUZCIEXITUOUJBMCYEYDYCLNZDYICZMTZZOXCWPEHMWQXQFXVKTYSOTCEWIPISRUFEJVAJQXQMMCFLACAKWQAAOTDLHOJWUNMQAEYNCJMOSWGNANMRFNTHGNLZZUEXXAQJQSYYXAXWTIKVDSJSFIZVVQRBWGOTYURZSMKQVTSUVFXSNXWRJUGMPDHLNKIWKOVCFQCOECLBZAHEZLBYZLJVATSQTXITAXOVTXUVPOKVLKCCCLFMLZHZEPJHHZRDDJVDJJAETQHXGUFFTHLMLULBPYPKYLGMEJAIOSOWDTFFHNCPOAMORXPSNCLYTVAIUGSJGMDWCRXUNUIJSJHMGVDCGEXNVTQFNTSCBBPBAACALXFMEPXOHCIOHLRJZKNTJZRYVWLGEITIZKFYIYQBGTRWMWKXZYXHKPHVHCKOICXFQLOBLRYBWVIXSYVSVHXABVYPYSYMOUSEZLJDEFTFWOXROZJHEWSYQPPLXNQIMMPFNFDENCLKUYXCCMRCVZSUAJHNNGFSPUVKOCZNPSPCBRBJKKEKBLEVGJGGOGQDXWBWXPQTVCQWENSNHSFQZFKVUMDXVDZXXVOMJAHACPFYRBPJLSAWVKEFWDCWULNDZVGVDMJLDWEAKFQXHMBGXFSVBOJQXXBWGCDSJWYXOXIEPFWNQWVHBUBEGMFSPHJEMYQYMUMSYTNPWFVQBHUJWSATQIRCKGGLHCJTYPZETUBYNHQGMMJHDQMSWKIMDMXTGXYROXXJJFXTNDJLZPZBKXYYZZEHOLZTGJEIALCVDNSLFLUJRHACVEKEXEGAQBTAZHMQCNPXOFSJXKOTWCMYQTEBUGMVXQZKKKFQVRZMYZXKWIXCKUCRNGKXMFGQTNZRBOMXUFJLSHPISXGKIWMWJOESMBLAJNUUWDIMVCRSKQLHLAKODPQJRYCYCWNISJQLGVRKBRTUXXLGIOWWEDVJUIKSFUREBAGWDMZEJYLRKYBMKQFCSXEZQTQE \n",
      "\n",
      "1559316943.530402\n",
      "955087711850835477\n",
      "[7, 22, 24, 37, 42, 44, 53]\n",
      "defaultdict(<class 'list'>, {2: 50, 8: 95, 12: 88, 15: 30, 20: 40, 21: 68, 25: 18, 28: 75, 31: 146, 40: 61, 43: 12, 47: 67, 61: 117, 67: 22, 70: 80, 72: 45, 78: 2})\n"
     ]
    },
    {
     "data": {
      "text/plain": [
       "'iflighthasnomasswhyisitaffectedbythegravitationalforceofablackhole'"
      ]
     },
     "execution_count": 99,
     "metadata": {},
     "output_type": "execute_result"
    }
   ],
   "source": [
    "x = Cipher(150)\n",
    "Key1,Key2,Key3,Encrypted_Message = x.Encode('if light has no mass, why is it affected by the gravitatioanal force of a black hole')\n",
    "print('Encrypted Message:\\n',Encrypted_Message,'\\n')\n",
    "print(time.time())\n",
    "print(Key1)\n",
    "print(Key2)\n",
    "print(Key3)\n",
    "x.Decrypt(Key1,Key2,Key3,Encrypted_Message)"
   ]
  },
  {
   "cell_type": "markdown",
   "metadata": {},
   "source": []
  },
  {
   "cell_type": "code",
   "execution_count": null,
   "metadata": {},
   "outputs": [],
   "source": []
  },
  {
   "cell_type": "code",
   "execution_count": null,
   "metadata": {},
   "outputs": [],
   "source": []
  },
  {
   "cell_type": "code",
   "execution_count": null,
   "metadata": {},
   "outputs": [],
   "source": []
  },
  {
   "cell_type": "code",
   "execution_count": null,
   "metadata": {},
   "outputs": [],
   "source": []
  },
  {
   "cell_type": "code",
   "execution_count": null,
   "metadata": {},
   "outputs": [],
   "source": []
  },
  {
   "cell_type": "code",
   "execution_count": null,
   "metadata": {},
   "outputs": [],
   "source": []
  },
  {
   "cell_type": "code",
   "execution_count": null,
   "metadata": {},
   "outputs": [],
   "source": []
  }
 ],
 "metadata": {
  "kernelspec": {
   "display_name": "Python 3",
   "language": "python",
   "name": "python3"
  },
  "language_info": {
   "codemirror_mode": {
    "name": "ipython",
    "version": 3
   },
   "file_extension": ".py",
   "mimetype": "text/x-python",
   "name": "python",
   "nbconvert_exporter": "python",
   "pygments_lexer": "ipython3",
   "version": "3.6.5"
  }
 },
 "nbformat": 4,
 "nbformat_minor": 2
}
